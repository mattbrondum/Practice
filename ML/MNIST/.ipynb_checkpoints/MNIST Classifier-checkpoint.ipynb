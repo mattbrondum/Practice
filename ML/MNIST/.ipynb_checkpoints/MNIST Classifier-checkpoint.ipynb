{
 "cells": [
  {
   "cell_type": "code",
   "execution_count": 124,
   "metadata": {},
   "outputs": [
    {
     "data": {
      "text/plain": [
       "8"
      ]
     },
     "execution_count": 124,
     "metadata": {},
     "output_type": "execute_result"
    }
   ],
   "source": [
    "import pandas as pd\n",
    "import numpy as np\n",
    "import matplotlib.pyplot as plt\n",
    "\n",
    "from sklearn.neighbors import KNeighborsClassifier\n",
    "from sklearn.metrics import plot_roc_curve, plot_confusion_matrix\n",
    "from sklearn.model_selection import train_test_split, GridSearchCV\n",
    "from sklearn import preprocessing\n",
    "from sklearn.decomposition import PCA\n",
    "import warnings\n",
    "warnings.filterwarnings('ignore')\n",
    "\n",
    "# Verify # of computer cores being leveraged by SKLearn (Joblib)\n",
    "import multiprocessing\n",
    "multiprocessing.cpu_count()"
   ]
  },
  {
   "cell_type": "markdown",
   "metadata": {},
   "source": [
    "### Load the data and show a sample image"
   ]
  },
  {
   "cell_type": "code",
   "execution_count": 2,
   "metadata": {},
   "outputs": [],
   "source": [
    "def load_data(file, label='label', rnd_seed=43, print_info=True):\n",
    "    \"\"\"Load data in, shuffle it, and convert it to an ndarray\"\"\"\n",
    "    df = pd.read_csv(file)\n",
    "    \n",
    "#     df = df.sample(n=25000, random_state=rnd_seed).reset_index(drop=True)\n",
    "    \n",
    "    x = df[[col for col in df.columns if col != label]].to_numpy()\n",
    "    y = df[label].to_numpy()\n",
    "\n",
    "    if print_info:\n",
    "        show_dataset_info(x,y)\n",
    "    return df, x, y\n",
    "\n",
    "def show_dataset_info(x,y):\n",
    "    \"\"\"Print some information about the data set\"\"\"\n",
    "    print('x has shape {}'.format(x.shape))\n",
    "    print('a sample of x has shape {}'.format(x[0].shape))\n",
    "    print('y has shape {}'.format(y.shape))\n",
    "    print('a sample of y has shape {}'.format(y[0].shape))\n",
    "    print('a sample image looks like...')\n",
    "    plt.imshow(x[0].reshape(28,28), cmap='gray', interpolation='nearest')"
   ]
  },
  {
   "cell_type": "code",
   "execution_count": 3,
   "metadata": {},
   "outputs": [
    {
     "name": "stdout",
     "output_type": "stream",
     "text": [
      "x has shape (42000, 784)\n",
      "a sample of x has shape (784,)\n",
      "y has shape (42000,)\n",
      "a sample of y has shape ()\n",
      "a sample image looks like...\n",
      "<class 'pandas.core.frame.DataFrame'>\n",
      "RangeIndex: 42000 entries, 0 to 41999\n",
      "Columns: 785 entries, label to pixel783\n",
      "dtypes: int64(785)\n",
      "memory usage: 251.5 MB\n",
      "None\n"
     ]
    },
    {
     "data": {
      "text/html": [
       "<div>\n",
       "<style scoped>\n",
       "    .dataframe tbody tr th:only-of-type {\n",
       "        vertical-align: middle;\n",
       "    }\n",
       "\n",
       "    .dataframe tbody tr th {\n",
       "        vertical-align: top;\n",
       "    }\n",
       "\n",
       "    .dataframe thead th {\n",
       "        text-align: right;\n",
       "    }\n",
       "</style>\n",
       "<table border=\"1\" class=\"dataframe\">\n",
       "  <thead>\n",
       "    <tr style=\"text-align: right;\">\n",
       "      <th></th>\n",
       "      <th>label</th>\n",
       "      <th>pixel0</th>\n",
       "      <th>pixel1</th>\n",
       "      <th>pixel2</th>\n",
       "      <th>pixel3</th>\n",
       "      <th>pixel4</th>\n",
       "      <th>pixel5</th>\n",
       "      <th>pixel6</th>\n",
       "      <th>pixel7</th>\n",
       "      <th>pixel8</th>\n",
       "      <th>...</th>\n",
       "      <th>pixel774</th>\n",
       "      <th>pixel775</th>\n",
       "      <th>pixel776</th>\n",
       "      <th>pixel777</th>\n",
       "      <th>pixel778</th>\n",
       "      <th>pixel779</th>\n",
       "      <th>pixel780</th>\n",
       "      <th>pixel781</th>\n",
       "      <th>pixel782</th>\n",
       "      <th>pixel783</th>\n",
       "    </tr>\n",
       "  </thead>\n",
       "  <tbody>\n",
       "    <tr>\n",
       "      <th>count</th>\n",
       "      <td>42000.000000</td>\n",
       "      <td>42000.0</td>\n",
       "      <td>42000.0</td>\n",
       "      <td>42000.0</td>\n",
       "      <td>42000.0</td>\n",
       "      <td>42000.0</td>\n",
       "      <td>42000.0</td>\n",
       "      <td>42000.0</td>\n",
       "      <td>42000.0</td>\n",
       "      <td>42000.0</td>\n",
       "      <td>...</td>\n",
       "      <td>42000.000000</td>\n",
       "      <td>42000.000000</td>\n",
       "      <td>42000.000000</td>\n",
       "      <td>42000.00000</td>\n",
       "      <td>42000.000000</td>\n",
       "      <td>42000.000000</td>\n",
       "      <td>42000.0</td>\n",
       "      <td>42000.0</td>\n",
       "      <td>42000.0</td>\n",
       "      <td>42000.0</td>\n",
       "    </tr>\n",
       "    <tr>\n",
       "      <th>mean</th>\n",
       "      <td>4.456643</td>\n",
       "      <td>0.0</td>\n",
       "      <td>0.0</td>\n",
       "      <td>0.0</td>\n",
       "      <td>0.0</td>\n",
       "      <td>0.0</td>\n",
       "      <td>0.0</td>\n",
       "      <td>0.0</td>\n",
       "      <td>0.0</td>\n",
       "      <td>0.0</td>\n",
       "      <td>...</td>\n",
       "      <td>0.219286</td>\n",
       "      <td>0.117095</td>\n",
       "      <td>0.059024</td>\n",
       "      <td>0.02019</td>\n",
       "      <td>0.017238</td>\n",
       "      <td>0.002857</td>\n",
       "      <td>0.0</td>\n",
       "      <td>0.0</td>\n",
       "      <td>0.0</td>\n",
       "      <td>0.0</td>\n",
       "    </tr>\n",
       "    <tr>\n",
       "      <th>std</th>\n",
       "      <td>2.887730</td>\n",
       "      <td>0.0</td>\n",
       "      <td>0.0</td>\n",
       "      <td>0.0</td>\n",
       "      <td>0.0</td>\n",
       "      <td>0.0</td>\n",
       "      <td>0.0</td>\n",
       "      <td>0.0</td>\n",
       "      <td>0.0</td>\n",
       "      <td>0.0</td>\n",
       "      <td>...</td>\n",
       "      <td>6.312890</td>\n",
       "      <td>4.633819</td>\n",
       "      <td>3.274488</td>\n",
       "      <td>1.75987</td>\n",
       "      <td>1.894498</td>\n",
       "      <td>0.414264</td>\n",
       "      <td>0.0</td>\n",
       "      <td>0.0</td>\n",
       "      <td>0.0</td>\n",
       "      <td>0.0</td>\n",
       "    </tr>\n",
       "    <tr>\n",
       "      <th>min</th>\n",
       "      <td>0.000000</td>\n",
       "      <td>0.0</td>\n",
       "      <td>0.0</td>\n",
       "      <td>0.0</td>\n",
       "      <td>0.0</td>\n",
       "      <td>0.0</td>\n",
       "      <td>0.0</td>\n",
       "      <td>0.0</td>\n",
       "      <td>0.0</td>\n",
       "      <td>0.0</td>\n",
       "      <td>...</td>\n",
       "      <td>0.000000</td>\n",
       "      <td>0.000000</td>\n",
       "      <td>0.000000</td>\n",
       "      <td>0.00000</td>\n",
       "      <td>0.000000</td>\n",
       "      <td>0.000000</td>\n",
       "      <td>0.0</td>\n",
       "      <td>0.0</td>\n",
       "      <td>0.0</td>\n",
       "      <td>0.0</td>\n",
       "    </tr>\n",
       "    <tr>\n",
       "      <th>25%</th>\n",
       "      <td>2.000000</td>\n",
       "      <td>0.0</td>\n",
       "      <td>0.0</td>\n",
       "      <td>0.0</td>\n",
       "      <td>0.0</td>\n",
       "      <td>0.0</td>\n",
       "      <td>0.0</td>\n",
       "      <td>0.0</td>\n",
       "      <td>0.0</td>\n",
       "      <td>0.0</td>\n",
       "      <td>...</td>\n",
       "      <td>0.000000</td>\n",
       "      <td>0.000000</td>\n",
       "      <td>0.000000</td>\n",
       "      <td>0.00000</td>\n",
       "      <td>0.000000</td>\n",
       "      <td>0.000000</td>\n",
       "      <td>0.0</td>\n",
       "      <td>0.0</td>\n",
       "      <td>0.0</td>\n",
       "      <td>0.0</td>\n",
       "    </tr>\n",
       "    <tr>\n",
       "      <th>50%</th>\n",
       "      <td>4.000000</td>\n",
       "      <td>0.0</td>\n",
       "      <td>0.0</td>\n",
       "      <td>0.0</td>\n",
       "      <td>0.0</td>\n",
       "      <td>0.0</td>\n",
       "      <td>0.0</td>\n",
       "      <td>0.0</td>\n",
       "      <td>0.0</td>\n",
       "      <td>0.0</td>\n",
       "      <td>...</td>\n",
       "      <td>0.000000</td>\n",
       "      <td>0.000000</td>\n",
       "      <td>0.000000</td>\n",
       "      <td>0.00000</td>\n",
       "      <td>0.000000</td>\n",
       "      <td>0.000000</td>\n",
       "      <td>0.0</td>\n",
       "      <td>0.0</td>\n",
       "      <td>0.0</td>\n",
       "      <td>0.0</td>\n",
       "    </tr>\n",
       "    <tr>\n",
       "      <th>75%</th>\n",
       "      <td>7.000000</td>\n",
       "      <td>0.0</td>\n",
       "      <td>0.0</td>\n",
       "      <td>0.0</td>\n",
       "      <td>0.0</td>\n",
       "      <td>0.0</td>\n",
       "      <td>0.0</td>\n",
       "      <td>0.0</td>\n",
       "      <td>0.0</td>\n",
       "      <td>0.0</td>\n",
       "      <td>...</td>\n",
       "      <td>0.000000</td>\n",
       "      <td>0.000000</td>\n",
       "      <td>0.000000</td>\n",
       "      <td>0.00000</td>\n",
       "      <td>0.000000</td>\n",
       "      <td>0.000000</td>\n",
       "      <td>0.0</td>\n",
       "      <td>0.0</td>\n",
       "      <td>0.0</td>\n",
       "      <td>0.0</td>\n",
       "    </tr>\n",
       "    <tr>\n",
       "      <th>max</th>\n",
       "      <td>9.000000</td>\n",
       "      <td>0.0</td>\n",
       "      <td>0.0</td>\n",
       "      <td>0.0</td>\n",
       "      <td>0.0</td>\n",
       "      <td>0.0</td>\n",
       "      <td>0.0</td>\n",
       "      <td>0.0</td>\n",
       "      <td>0.0</td>\n",
       "      <td>0.0</td>\n",
       "      <td>...</td>\n",
       "      <td>254.000000</td>\n",
       "      <td>254.000000</td>\n",
       "      <td>253.000000</td>\n",
       "      <td>253.00000</td>\n",
       "      <td>254.000000</td>\n",
       "      <td>62.000000</td>\n",
       "      <td>0.0</td>\n",
       "      <td>0.0</td>\n",
       "      <td>0.0</td>\n",
       "      <td>0.0</td>\n",
       "    </tr>\n",
       "  </tbody>\n",
       "</table>\n",
       "<p>8 rows × 785 columns</p>\n",
       "</div>"
      ],
      "text/plain": [
       "              label   pixel0   pixel1   pixel2   pixel3   pixel4   pixel5  \\\n",
       "count  42000.000000  42000.0  42000.0  42000.0  42000.0  42000.0  42000.0   \n",
       "mean       4.456643      0.0      0.0      0.0      0.0      0.0      0.0   \n",
       "std        2.887730      0.0      0.0      0.0      0.0      0.0      0.0   \n",
       "min        0.000000      0.0      0.0      0.0      0.0      0.0      0.0   \n",
       "25%        2.000000      0.0      0.0      0.0      0.0      0.0      0.0   \n",
       "50%        4.000000      0.0      0.0      0.0      0.0      0.0      0.0   \n",
       "75%        7.000000      0.0      0.0      0.0      0.0      0.0      0.0   \n",
       "max        9.000000      0.0      0.0      0.0      0.0      0.0      0.0   \n",
       "\n",
       "        pixel6   pixel7   pixel8  ...      pixel774      pixel775  \\\n",
       "count  42000.0  42000.0  42000.0  ...  42000.000000  42000.000000   \n",
       "mean       0.0      0.0      0.0  ...      0.219286      0.117095   \n",
       "std        0.0      0.0      0.0  ...      6.312890      4.633819   \n",
       "min        0.0      0.0      0.0  ...      0.000000      0.000000   \n",
       "25%        0.0      0.0      0.0  ...      0.000000      0.000000   \n",
       "50%        0.0      0.0      0.0  ...      0.000000      0.000000   \n",
       "75%        0.0      0.0      0.0  ...      0.000000      0.000000   \n",
       "max        0.0      0.0      0.0  ...    254.000000    254.000000   \n",
       "\n",
       "           pixel776     pixel777      pixel778      pixel779  pixel780  \\\n",
       "count  42000.000000  42000.00000  42000.000000  42000.000000   42000.0   \n",
       "mean       0.059024      0.02019      0.017238      0.002857       0.0   \n",
       "std        3.274488      1.75987      1.894498      0.414264       0.0   \n",
       "min        0.000000      0.00000      0.000000      0.000000       0.0   \n",
       "25%        0.000000      0.00000      0.000000      0.000000       0.0   \n",
       "50%        0.000000      0.00000      0.000000      0.000000       0.0   \n",
       "75%        0.000000      0.00000      0.000000      0.000000       0.0   \n",
       "max      253.000000    253.00000    254.000000     62.000000       0.0   \n",
       "\n",
       "       pixel781  pixel782  pixel783  \n",
       "count   42000.0   42000.0   42000.0  \n",
       "mean        0.0       0.0       0.0  \n",
       "std         0.0       0.0       0.0  \n",
       "min         0.0       0.0       0.0  \n",
       "25%         0.0       0.0       0.0  \n",
       "50%         0.0       0.0       0.0  \n",
       "75%         0.0       0.0       0.0  \n",
       "max         0.0       0.0       0.0  \n",
       "\n",
       "[8 rows x 785 columns]"
      ]
     },
     "execution_count": 3,
     "metadata": {},
     "output_type": "execute_result"
    },
    {
     "data": {
      "image/png": "[encoded data removed]",
      "text/plain": [
       "<Figure size 432x288 with 1 Axes>"
      ]
     },
     "metadata": {
      "needs_background": "light"
     },
     "output_type": "display_data"
    }
   ],
   "source": [
    "df, X, y = load_data('train.csv')\n",
    "print(df.info())\n",
    "df.describe()"
   ]
  },
  {
   "cell_type": "markdown",
   "metadata": {},
   "source": [
    "### Observations\n",
    "- There are 42k images x 785 pixels each ~ 33M individual data points in this data set\n",
    "- Woah that's really cool! It sounds simple but to see that an image is really just \n",
    "  an array of integers that can be desplayed graphically is pretty marvelous\n",
    "- There is a lot of black space around the image\n",
    "- many of the columns (pixels) appear to have all 0's in them\n",
    "    - this means they may not contain useful information and may just be extra memory consumers \n",
    "      as well as hurt the algorithm from learning at all (or quickly)"
   ]
  },
  {
   "cell_type": "code",
   "execution_count": 4,
   "metadata": {},
   "outputs": [
    {
     "name": "stdout",
     "output_type": "stream",
     "text": [
      "[4132, 4684, 4177, 4351, 4072, 3795, 4137, 4401, 4063, 4188]\n",
      "76\n",
      "0.23821656050955414\n"
     ]
    }
   ],
   "source": [
    "# Are there a reasonable numbers of numbers to train on for each number? \n",
    "print(df.groupby('label')['label'].count().tolist())\n",
    "# How many pixels are actually always 0? \n",
    "print((df.sum()==0).sum())\n",
    "# How many pixels are used < 10% of the time? \n",
    "ten_pct_thresh = df.shape[0]/10 \n",
    "print((df.sum()<ten_pct_thresh).sum()/len(df.columns))"
   ]
  },
  {
   "cell_type": "markdown",
   "metadata": {},
   "source": [
    "### Split data into test and train sets\n",
    "- Even though I am just using train.csv I still want to split\n",
    "  my data into train and test values in order to keep test.csv as a \n",
    "  holdout set to perform my final predictions on.  \n",
    "- Since we have a reasonable number of labels for all 10 digits,\n",
    "  it isn't necessary to do any stratified sampling based on labels"
   ]
  },
  {
   "cell_type": "code",
   "execution_count": 5,
   "metadata": {},
   "outputs": [],
   "source": [
    "X_train, X_test, y_train, y_test = train_test_split(X, y, test_size=0.2, random_state=42)"
   ]
  },
  {
   "cell_type": "markdown",
   "metadata": {},
   "source": [
    "### Test KNN Model\n",
    "- KNN's are a reasonably simple, all-purpose, out of the box supervised clustering method\n",
    "  so I'm going to try one of those. \n",
    "- Create a K Nearest Neighbors classification model \n",
    "- Try grid search that varies K ( and the weights used. \n",
    "- I used accuracy as measurement scores since I don't have a specific\n",
    "use case in mind where I might value (say) reducing false positives. \n",
    "- The model was running slow on my computer so I used verbose=10 to print some intermitent results\n",
    "    - Since KNN scales well w/ larger data sets, sampling probably won't be very effective here"
   ]
  },
  {
   "cell_type": "code",
   "execution_count": 11,
   "metadata": {},
   "outputs": [
    {
     "name": "stderr",
     "output_type": "stream",
     "text": [
      "UsageError: Line magic function `%%time` not found.\n"
     ]
    }
   ],
   "source": [
    "# This takes a while to train so let's reduce the data set size. \n",
    "# especially before we try to do a grid search\n",
    "%time \n",
    "knn_clf = KNeighborsClassifier().fit(X[:10000],y[:10000])"
   ]
  },
  {
   "cell_type": "code",
   "execution_count": null,
   "metadata": {},
   "outputs": [],
   "source": [
    "%%time \n",
    "gs.fit(X_train, y_train)"
   ]
  },
  {
   "cell_type": "markdown",
   "metadata": {},
   "source": [
    "### Reduce size of data set\n",
    "- (note I did this for practicing algorithm design. In a real world setting\n",
    "  it probably would make more sense to just sample the data set or perform PCA first)\n",
    "- Before I try to even look at the accuracy / results, I am going\n",
    " to try to speed up the training since it took so long to run\n",
    "- First I try to trim the images black space around the edges since there\n",
    "appears to be large borders that don't contain any information. \n",
    "- I wrote a function to trim a single image and then realized there might be \n",
    "a faster way to to trim the images where I don't 'for loop' through each image\n",
    "since I want all the images to be the same size. "
   ]
  },
  {
   "cell_type": "code",
   "execution_count": 12,
   "metadata": {},
   "outputs": [],
   "source": [
    "def trim_one_image(image, tol=10):\n",
    "    \"\"\"Trim a single image to a specific tolerance\"\"\"\n",
    "    valid_mask = image>tol\n",
    "    valid_rows = valid_mask.any(1)\n",
    "    valid_cols = valid_mask.any(0)\n",
    "    valid_indices = np.ix_(valid_rows, valid_cols)\n",
    "    trimmed_image = image[valid_indices]\n",
    "    \n",
    "    return trimmed_image"
   ]
  },
  {
   "cell_type": "code",
   "execution_count": 29,
   "metadata": {},
   "outputs": [
    {
     "name": "stdout",
     "output_type": "stream",
     "text": [
      "(28, 28) 6272\n",
      "(16, 20) 2560\n",
      "------------------------\n"
     ]
    },
    {
     "data": {
      "image/png": "[encoded data removed]",
      "text/plain": [
       "<Figure size 432x288 with 1 Axes>"
      ]
     },
     "metadata": {
      "needs_background": "light"
     },
     "output_type": "display_data"
    },
    {
     "data": {
      "image/png": "[encoded data removed]",
      "text/plain": [
       "<Figure size 432x288 with 1 Axes>"
      ]
     },
     "metadata": {
      "needs_background": "light"
     },
     "output_type": "display_data"
    }
   ],
   "source": [
    "sample_image = X[34].reshape(28,28)\n",
    "result = trim_one_image(sample_image,100)\n",
    "\n",
    "print(sample_image.shape, sample_image.size*sample_image.itemsize)\n",
    "print(result.shape, result.size*result.itemsize)\n",
    "print(\"------------------------\")\n",
    "plt.imshow(sample_image.reshape(28,28), cmap='gray', interpolation='nearest')\n",
    "plt.show()\n",
    "plt.imshow(result, cmap='gray', interpolation='nearest')\n",
    "plt.show()"
   ]
  },
  {
   "cell_type": "markdown",
   "metadata": {},
   "source": [
    "- Nice! The image size reduction worked on a single image\n",
    "- Running this across all images and then taking the max size \n",
    "  might work with some tweaking, but let's try vectorizing this\n",
    "  logic for speed-sake"
   ]
  },
  {
   "cell_type": "code",
   "execution_count": 13,
   "metadata": {},
   "outputs": [],
   "source": [
    "def trim_all_images(input_array,tol=10):\n",
    "    \"\"\"Trim the blackspace around an group of images to a specific tolerance\n",
    "    Input: A x B x C array of A images of size B x C\n",
    "    Method: Check each row and column to see if they contain any non-black pixels\n",
    "    Output: A x D x E array where there are still A images but they've been\n",
    "            shrunken down such that D <= B and E <= C\n",
    "    \"\"\"\n",
    "    keep_rows = []\n",
    "    for row in range(input_array.shape[1]):\n",
    "        temp_arr = input_array[:,row,:]\n",
    "        mask = temp_arr>tol\n",
    "        keep = mask.any()\n",
    "        if keep:\n",
    "            keep_rows.append(row)\n",
    "\n",
    "    keep_cols = []\n",
    "    for col in range(input_array.shape[2]):\n",
    "        temp_arr = input_array[:,:,col]\n",
    "        mask = temp_arr>tol\n",
    "        keep = mask.any()\n",
    "        if keep:\n",
    "            keep_cols.append(col)\n",
    "\n",
    "    keep_images = [x for x in range(input_array.shape[0])]\n",
    "\n",
    "    final_arr = input_array[np.ix_(keep_images,keep_rows, keep_cols)]\n",
    "    \n",
    "    return final_arr"
   ]
  },
  {
   "cell_type": "markdown",
   "metadata": {},
   "source": [
    "Note: The speed of this is much faster than looping through each image individually\n",
    "since we've vectorized the masking (ex. check all row 0's at once). However, this\n",
    "might be able to be sped up even faster since I still have two for loops. In our \n",
    "use case this really isn't terrible since we loop through 28 columns and 28 rows. "
   ]
  },
  {
   "cell_type": "code",
   "execution_count": 32,
   "metadata": {},
   "outputs": [
    {
     "name": "stdout",
     "output_type": "stream",
     "text": [
      "(42000, 28, 28) 263424000\n",
      "(42000, 28, 28) 263424000\n",
      "------------------------\n"
     ]
    },
    {
     "data": {
      "image/png": "[encoded data removed]",
      "text/plain": [
       "<Figure size 432x288 with 1 Axes>"
      ]
     },
     "metadata": {
      "needs_background": "light"
     },
     "output_type": "display_data"
    },
    {
     "data": {
      "image/png": "[encoded data removed]",
      "text/plain": [
       "<Figure size 432x288 with 1 Axes>"
      ]
     },
     "metadata": {
      "needs_background": "light"
     },
     "output_type": "display_data"
    }
   ],
   "source": [
    "result = trim_all_images(X.reshape(len(X),28,28),100)\n",
    "\n",
    "print(X.reshape(len(X),28,28).shape, X.size*X.itemsize)\n",
    "print(result.shape, result.size*result.itemsize)\n",
    "print(\"------------------------\")\n",
    "plt.imshow(X[3].reshape(28,28), cmap='gray', interpolation='nearest')\n",
    "plt.show()\n",
    "plt.imshow(result[3], cmap='gray', interpolation='nearest')\n",
    "plt.show()"
   ]
  },
  {
   "cell_type": "markdown",
   "metadata": {},
   "source": [
    "### Observations \n",
    "- From the above, we can see the images only get shrunk from 28x28 to 27x27\n",
    "- This only reduces the side of the data set by ~7% which isn't negligible but\n",
    "  definitely can be improved. \n",
    "- It looks like my hypothesis that there was a lot of black space around each \n",
    "  photo turned out to be invalid. \n",
    "\n",
    "### Principle Component Analysis\n",
    "- Let's instad try applying Principle Components Analysis to see if we can\n",
    "  reduce the size of the dataset without losing too much information \n",
    "- This will allow us to quickly reduce the size of the data set, while ensuring\n",
    "  we retain the variance in columns (presumably, the \"information\" contained in \n",
    "  the data set"
   ]
  },
  {
   "cell_type": "code",
   "execution_count": 36,
   "metadata": {},
   "outputs": [
    {
     "data": {
      "image/png": "[encoded data removed]",
      "text/plain": [
       "<Figure size 432x288 with 1 Axes>"
      ]
     },
     "metadata": {
      "needs_background": "light"
     },
     "output_type": "display_data"
    },
    {
     "name": "stdout",
     "output_type": "stream",
     "text": [
      "154 components (vs 784 pixels) needed to account for 95% of the variance\n"
     ]
    }
   ],
   "source": [
    "pca = PCA()\n",
    "pca.fit(X)\n",
    "explained_var = pca.explained_variance_ratio_\n",
    "explained_var_cum = np.cumsum(explained_var)\n",
    "components_needed = len(explained_var_cum[explained_var_cum<.95])+1\n",
    "plt.plot(explained_var_cum)   \n",
    "plt.plot([components_needed,components_needed,0],[0,.95,.95],'-o')\n",
    "plt.ylabel('% of Variance Explained')\n",
    "plt.xlabel('Components')\n",
    "plt.show()\n",
    "print(\"{} components (vs 784 pixels) needed to account for 95% of the variance\".format(components_needed))"
   ]
  },
  {
   "cell_type": "code",
   "execution_count": 37,
   "metadata": {},
   "outputs": [],
   "source": [
    "# Now let's fit the data to our PCA model using 154 components\n",
    "X_PCAed = PCA(154).fit_transform(X, y)"
   ]
  },
  {
   "cell_type": "code",
   "execution_count": 44,
   "metadata": {},
   "outputs": [
    {
     "name": "stdout",
     "output_type": "stream",
     "text": [
      "old data shape had shape (42000, 784) and memory size 263424000\n",
      "new data shape had shape (42000, 154) and memory size 51744000\n",
      "This reduced our dataset down by 80%\n"
     ]
    }
   ],
   "source": [
    "# How much did this reduce our memory down by? \n",
    "old_size = X.shape\n",
    "old_memory = X.size*X.itemsize\n",
    "new_size = X_PCAed.shape\n",
    "new_memory = X_PCAed.size*X_PCAed.itemsize\n",
    "print('old data shape had shape {} and memory size {}'.format(old_size, old_memory))\n",
    "print('new data shape had shape {} and memory size {}'.format(new_size, new_memory))\n",
    "print('This reduced our dataset down by {}%'.format(int(100*(old_memory-new_memory)/old_memory)))"
   ]
  },
  {
   "cell_type": "code",
   "execution_count": 49,
   "metadata": {},
   "outputs": [],
   "source": [
    "X_train, X_test, y_train, y_test = train_test_split(X_PCAed, y, test_size=0.2, random_state=42)"
   ]
  },
  {
   "cell_type": "code",
   "execution_count": 52,
   "metadata": {},
   "outputs": [],
   "source": [
    "# Now let's try KNN again \n",
    "knn_clf = KNeighborsClassifier(n_neighbors=5).fit(X_train, y_train)"
   ]
  },
  {
   "cell_type": "code",
   "execution_count": 53,
   "metadata": {},
   "outputs": [
    {
     "data": {
      "text/plain": [
       "0.9677380952380953"
      ]
     },
     "execution_count": 53,
     "metadata": {},
     "output_type": "execute_result"
    }
   ],
   "source": [
    "knn_clf.score(X_test, y_test)"
   ]
  },
  {
   "cell_type": "code",
   "execution_count": 84,
   "metadata": {},
   "outputs": [],
   "source": [
    "# Wow a 97% accuracy on the test set\n",
    "# Let's try a grid search on K and weights parameters \n",
    "# and perform cross validation to ensure we're not overfitting"
   ]
  },
  {
   "cell_type": "code",
   "execution_count": 54,
   "metadata": {},
   "outputs": [
    {
     "name": "stdout",
     "output_type": "stream",
     "text": [
      "Fitting 5 folds for each of 8 candidates, totalling 40 fits\n"
     ]
    },
    {
     "name": "stderr",
     "output_type": "stream",
     "text": [
      "[Parallel(n_jobs=-1)]: Using backend LokyBackend with 8 concurrent workers.\n",
      "[Parallel(n_jobs=-1)]: Done   2 tasks      | elapsed:  1.1min\n",
      "[Parallel(n_jobs=-1)]: Done   9 tasks      | elapsed:  2.1min\n",
      "[Parallel(n_jobs=-1)]: Done  16 tasks      | elapsed:  2.4min\n",
      "[Parallel(n_jobs=-1)]: Done  25 tasks      | elapsed:  4.7min\n",
      "[Parallel(n_jobs=-1)]: Done  30 out of  40 | elapsed:  5.3min remaining:  1.8min\n",
      "[Parallel(n_jobs=-1)]: Done  35 out of  40 | elapsed:  6.5min remaining:   55.5s\n",
      "[Parallel(n_jobs=-1)]: Done  40 out of  40 | elapsed:  6.7min remaining:    0.0s\n",
      "[Parallel(n_jobs=-1)]: Done  40 out of  40 | elapsed:  6.7min finished\n"
     ]
    },
    {
     "data": {
      "text/plain": [
       "GridSearchCV(cv=None, error_score=nan,\n",
       "             estimator=KNeighborsClassifier(algorithm='auto', leaf_size=30,\n",
       "                                            metric='minkowski',\n",
       "                                            metric_params=None, n_jobs=None,\n",
       "                                            n_neighbors=5, p=2,\n",
       "                                            weights='uniform'),\n",
       "             iid='deprecated', n_jobs=-1,\n",
       "             param_grid={'n_neighbors': [1, 5, 9, 13],\n",
       "                         'weights': ['uniform', 'distance']},\n",
       "             pre_dispatch='2*n_jobs', refit=False, return_train_score=False,\n",
       "             scoring={'Accuracy': 'accuracy'}, verbose=10)"
      ]
     },
     "execution_count": 54,
     "metadata": {},
     "output_type": "execute_result"
    }
   ],
   "source": [
    "gs_params = {'n_neighbors':list(range(1,16,4)),'weights':['uniform', 'distance']}\n",
    "gs_scores = {'Accuracy':'accuracy'}\n",
    "gs = GridSearchCV(KNeighborsClassifier()\n",
    "             , gs_params\n",
    "             , refit=False\n",
    "             , scoring=gs_scores\n",
    "             , n_jobs=-1\n",
    "             , verbose=10)\n",
    "gs.fit(X_train, y_train)"
   ]
  },
  {
   "cell_type": "code",
   "execution_count": 107,
   "metadata": {},
   "outputs": [
    {
     "name": "stdout",
     "output_type": "stream",
     "text": [
      "(96.58, \"{'n_neighbors': 1, 'weights': 'uniform'}\")\n",
      "(96.58, \"{'n_neighbors': 1, 'weights': 'distance'}\")\n",
      "(96.61, \"{'n_neighbors': 5, 'weights': 'uniform'}\")\n",
      "(96.68, \"{'n_neighbors': 5, 'weights': 'distance'}\")\n",
      "(96.32, \"{'n_neighbors': 9, 'weights': 'uniform'}\")\n",
      "(96.51, \"{'n_neighbors': 9, 'weights': 'distance'}\")\n",
      "(96.1, \"{'n_neighbors': 13, 'weights': 'uniform'}\")\n",
      "(96.28, \"{'n_neighbors': 13, 'weights': 'distance'}\")\n"
     ]
    }
   ],
   "source": [
    "# From this we can see that the best combination seems to be \n",
    "# 5 neighbors and distance-based weighting \n",
    "acc = (100*gs.cv_results_['mean_test_Accuracy']).round(2)\n",
    "params = [str(p) for p in gs.cv_results_['params']]\n",
    "results = zip(acc, params)\n",
    "for res in results:\n",
    "    print(res)"
   ]
  },
  {
   "cell_type": "code",
   "execution_count": 117,
   "metadata": {},
   "outputs": [
    {
     "data": {
      "text/plain": [
       "0.968452380952381"
      ]
     },
     "execution_count": 117,
     "metadata": {},
     "output_type": "execute_result"
    }
   ],
   "source": [
    "# Let's refit the model and see how it performs on our holdout test set\n",
    "knn_clf = KNeighborsClassifier(5, weights='distance').fit(X_train, y_train)\n",
    "knn_clf.score(X_test, y_test)"
   ]
  },
  {
   "cell_type": "code",
   "execution_count": 164,
   "metadata": {},
   "outputs": [
    {
     "data": {
      "text/plain": [
       "<Figure size 864x864 with 0 Axes>"
      ]
     },
     "execution_count": 164,
     "metadata": {},
     "output_type": "execute_result"
    },
    {
     "data": {
      "image/png": "[encoded data removed]",
      "text/plain": [
       "<Figure size 432x288 with 1 Axes>"
      ]
     },
     "metadata": {
      "needs_background": "light"
     },
     "output_type": "display_data"
    },
    {
     "data": {
      "text/plain": [
       "<Figure size 864x864 with 0 Axes>"
      ]
     },
     "metadata": {},
     "output_type": "display_data"
    }
   ],
   "source": [
    "# Nice we get the accuracy we were looking for\n",
    "# preds = knn_clf.predict(X_test)\n",
    "conf_mat = confusion_matrix(y_test, preds)\n",
    "np.fill_diagonal(conf_mat, 0, int)\n",
    "plt.imshow(conf_mat, cmap='hot')\n",
    "plt.figure(figsize=(12,12))"
   ]
  },
  {
   "cell_type": "markdown",
   "metadata": {},
   "source": [
    "### Next Steps\n",
    "- We could try to see if picking a new K value near 5 (like 4 or 6) provides better accuracy\n",
    "- We should try to create new features that help the model distinguish\n",
    "  2's from 7's and 4's from 9's since that seems to be the biggest opportunity\n",
    "  based on the confusion matrix. We could do that by creating an algorithm that\n",
    "  strengthens the  horizontal bar on the bottom of the 2's since the 7's don't have that"
   ]
  }
 ],
 "metadata": {
  "kernelspec": {
   "display_name": "Python 3",
   "language": "python",
   "name": "python3"
  },
  "language_info": {
   "codemirror_mode": {
    "name": "ipython",
    "version": 3
   },
   "file_extension": ".py",
   "mimetype": "text/x-python",
   "name": "python",
   "nbconvert_exporter": "python",
   "pygments_lexer": "ipython3",
   "version": "3.7.6"
  }
 },
 "nbformat": 4,
 "nbformat_minor": 4
}
